{
 "cells": [
  {
   "cell_type": "code",
   "execution_count": null,
   "metadata": {
    "collapsed": true
   },
   "outputs": [],
   "source": [
    "##Create a network table (as the import for subsequent visualization in Cytoscape)\n",
    "#Nodes = event types\n",
    "#Edges = indicate which events are connected based on the sequence of time stamps\n",
    "#Edges can have values attached: \n",
    "  #In this case, either (1) aggregated number of connections over certain period of time (e.g. counts),\n",
    "    #or (2) the time difference between the event timestamps (e.g. seconds)"
   ]
  },
  {
   "cell_type": "code",
   "execution_count": 3,
   "metadata": {
    "collapsed": false
   },
   "outputs": [
    {
     "data": {
      "text/plain": [
       "u'Connected: testuser@dev'"
      ]
     },
     "execution_count": 3,
     "metadata": {},
     "output_type": "execute_result"
    }
   ],
   "source": [
    "#connect to Redshift database:\n",
    "%load_ext sql\n",
    "%config SqlMagic.displaylimit = 100\n",
    "%config SqlMagic.autopandas= True\n",
    "connection_string = open(\"connection\",\"r\").read()\n",
    "%sql $connection_string"
   ]
  },
  {
   "cell_type": "code",
   "execution_count": 4,
   "metadata": {
    "collapsed": false
   },
   "outputs": [
    {
     "name": "stdout",
     "output_type": "stream",
     "text": [
      "176570 rows affected.\n"
     ]
    }
   ],
   "source": [
    "#for this example: select just one day's worth of data:\n",
    "#all the entries from eventsx from March 26th\n",
    "test = %sql SELECT keyboardid, eventname,timestamp FROM datatest.eventsx WHERE DATE(timestamp) = '2015-03-26' ORDER BY keyboardid, timestamp"
   ]
  },
  {
   "cell_type": "code",
   "execution_count": 5,
   "metadata": {
    "collapsed": true
   },
   "outputs": [],
   "source": [
    "#import:\n",
    "import pandas as pd\n",
    "import numpy as np\n",
    "import matplotlib.pyplot as plt\n",
    "%matplotlib inline"
   ]
  },
  {
   "cell_type": "code",
   "execution_count": null,
   "metadata": {
    "collapsed": true
   },
   "outputs": [],
   "source": [
    "##take a quick look at data:"
   ]
  },
  {
   "cell_type": "code",
   "execution_count": 6,
   "metadata": {
    "collapsed": false
   },
   "outputs": [
    {
     "data": {
      "text/plain": [
       "16625"
      ]
     },
     "execution_count": 6,
     "metadata": {},
     "output_type": "execute_result"
    }
   ],
   "source": [
    "#how many unique users?\n",
    "users = test['keyboardid'].unique()\n",
    "len(users)"
   ]
  },
  {
   "cell_type": "code",
   "execution_count": 7,
   "metadata": {
    "collapsed": false
   },
   "outputs": [
    {
     "data": {
      "text/plain": [
       "array([u'andrfbm_open', u'andrfbm_browsetag', u'andrfbm_listview_send',\n",
       "       u'andrfbm_itemview', u'andrfbm_itemview_reply', u'andrfbm_search',\n",
       "       u'andrfbm_fbmreply', u'andrfbm_listview_reply',\n",
       "       u'andrfbm_itemview_send', u'andrfbm_itemview_browsetag'], dtype=object)"
      ]
     },
     "execution_count": 7,
     "metadata": {},
     "output_type": "execute_result"
    }
   ],
   "source": [
    "#what are the different event types? (e.g. nodes)\n",
    "e = test['eventname'].unique()\n",
    "e"
   ]
  },
  {
   "cell_type": "code",
   "execution_count": 8,
   "metadata": {
    "collapsed": true
   },
   "outputs": [],
   "source": [
    "#group data by person:\n",
    "grouped = test.groupby('keyboardid')"
   ]
  },
  {
   "cell_type": "code",
   "execution_count": 9,
   "metadata": {
    "collapsed": true
   },
   "outputs": [],
   "source": [
    "#defining sessions by '_open' events: \n",
    "session = {}\n",
    "for index, (name,group) in enumerate(grouped):\n",
    "    sess = 0\n",
    "    for idx, row in group.iterrows():\n",
    "        if row['eventname'] == 'andrfbm_open':\n",
    "            sess+= 1\n",
    "        session[idx] = sess"
   ]
  },
  {
   "cell_type": "code",
   "execution_count": 10,
   "metadata": {
    "collapsed": true
   },
   "outputs": [],
   "source": [
    "#add sessionid column :\n",
    "r, v = zip(*session.items())\n",
    "session_series = pd.Series.from_array(np.array(v), index=np.array(r), name='sessionid')\n",
    "test_plus_sessionid = pd.concat([test,session_series],axis=1)"
   ]
  },
  {
   "cell_type": "code",
   "execution_count": 11,
   "metadata": {
    "collapsed": true
   },
   "outputs": [],
   "source": [
    "#add eventname_next column:\n",
    "eventnamecol = np.copy(test_plus_sessionid['eventname'])\n",
    "eventnamecol[-1] = 'end'\n",
    "eventnamecol[:-1] = eventnamecol[1:]\n",
    "test_plus_sessionid['eventname_next'] = eventnamecol"
   ]
  },
  {
   "cell_type": "code",
   "execution_count": 12,
   "metadata": {
    "collapsed": true
   },
   "outputs": [],
   "source": [
    "#add timestamp_next column:\n",
    "timestampcol = np.copy(test_plus_sessionid['timestamp'])\n",
    "timestampcol[:-1] = timestampcol[1:]\n",
    "test_plus_sessionid['timestamp_next'] = timestampcol"
   ]
  },
  {
   "cell_type": "code",
   "execution_count": 13,
   "metadata": {
    "collapsed": false
   },
   "outputs": [
    {
     "data": {
      "text/html": [
       "<div>\n",
       "<table border=\"1\" class=\"dataframe\">\n",
       "  <thead>\n",
       "    <tr style=\"text-align: right;\">\n",
       "      <th></th>\n",
       "      <th>keyboardid</th>\n",
       "      <th>eventname</th>\n",
       "      <th>timestamp</th>\n",
       "      <th>sessionid</th>\n",
       "      <th>eventname_next</th>\n",
       "      <th>timestamp_next</th>\n",
       "      <th>timestampdiffsec</th>\n",
       "    </tr>\n",
       "  </thead>\n",
       "  <tbody>\n",
       "    <tr>\n",
       "      <th>0</th>\n",
       "      <td>Mjc0MDA0MA</td>\n",
       "      <td>andrfbm_open</td>\n",
       "      <td>2015-03-26 01:33:54</td>\n",
       "      <td>1</td>\n",
       "      <td>andrfbm_open</td>\n",
       "      <td>2015-03-26 14:15:52</td>\n",
       "      <td>12:41:58</td>\n",
       "    </tr>\n",
       "    <tr>\n",
       "      <th>1</th>\n",
       "      <td>Mjc0MDA0MA</td>\n",
       "      <td>andrfbm_open</td>\n",
       "      <td>2015-03-26 14:15:52</td>\n",
       "      <td>2</td>\n",
       "      <td>andrfbm_open</td>\n",
       "      <td>2015-03-26 14:15:54</td>\n",
       "      <td>00:00:02</td>\n",
       "    </tr>\n",
       "    <tr>\n",
       "      <th>2</th>\n",
       "      <td>Mjc0MDA0MA</td>\n",
       "      <td>andrfbm_open</td>\n",
       "      <td>2015-03-26 14:15:54</td>\n",
       "      <td>3</td>\n",
       "      <td>andrfbm_browsetag</td>\n",
       "      <td>2015-03-26 14:16:08</td>\n",
       "      <td>00:00:14</td>\n",
       "    </tr>\n",
       "    <tr>\n",
       "      <th>3</th>\n",
       "      <td>Mjc0MDA0MA</td>\n",
       "      <td>andrfbm_browsetag</td>\n",
       "      <td>2015-03-26 14:16:08</td>\n",
       "      <td>3</td>\n",
       "      <td>andrfbm_browsetag</td>\n",
       "      <td>2015-03-26 14:16:20</td>\n",
       "      <td>00:00:12</td>\n",
       "    </tr>\n",
       "    <tr>\n",
       "      <th>4</th>\n",
       "      <td>Mjc0MDA0MA</td>\n",
       "      <td>andrfbm_browsetag</td>\n",
       "      <td>2015-03-26 14:16:20</td>\n",
       "      <td>3</td>\n",
       "      <td>andrfbm_listview_send</td>\n",
       "      <td>2015-03-26 14:16:35</td>\n",
       "      <td>00:00:15</td>\n",
       "    </tr>\n",
       "  </tbody>\n",
       "</table>\n",
       "</div>"
      ],
      "text/plain": [
       "   keyboardid          eventname           timestamp  sessionid  \\\n",
       "0  Mjc0MDA0MA       andrfbm_open 2015-03-26 01:33:54          1   \n",
       "1  Mjc0MDA0MA       andrfbm_open 2015-03-26 14:15:52          2   \n",
       "2  Mjc0MDA0MA       andrfbm_open 2015-03-26 14:15:54          3   \n",
       "3  Mjc0MDA0MA  andrfbm_browsetag 2015-03-26 14:16:08          3   \n",
       "4  Mjc0MDA0MA  andrfbm_browsetag 2015-03-26 14:16:20          3   \n",
       "\n",
       "          eventname_next      timestamp_next  timestampdiffsec  \n",
       "0           andrfbm_open 2015-03-26 14:15:52          12:41:58  \n",
       "1           andrfbm_open 2015-03-26 14:15:54          00:00:02  \n",
       "2      andrfbm_browsetag 2015-03-26 14:16:08          00:00:14  \n",
       "3      andrfbm_browsetag 2015-03-26 14:16:20          00:00:12  \n",
       "4  andrfbm_listview_send 2015-03-26 14:16:35          00:00:15  "
      ]
     },
     "execution_count": 13,
     "metadata": {},
     "output_type": "execute_result"
    }
   ],
   "source": [
    "#add new column that takes time difference:\n",
    "timediff = test_plus_sessionid['timestamp_next'] - test_plus_sessionid['timestamp']\n",
    "test_plus_sessionid['timestampdiffsec'] = timediff\n",
    "#rename dataframe to 'T':\n",
    "T = test_plus_sessionid\n",
    "T.head()"
   ]
  },
  {
   "cell_type": "code",
   "execution_count": 14,
   "metadata": {
    "collapsed": true
   },
   "outputs": [],
   "source": [
    "#Since there are no timestamps for when a user closes the app,\n",
    "#we assume that when the next open event occurs, there was a close or end event before that:\n",
    "#function to change (open --> open) to (open --> end)\n",
    "def change_to_close(x):\n",
    "    if (x['eventname'] == 'andrfbm_open') & (x['eventname_next'] == 'andrfbm_open'):\n",
    "        return 'andrfbm_end'\n",
    "    else:\n",
    "        return x['eventname_next']"
   ]
  },
  {
   "cell_type": "code",
   "execution_count": 15,
   "metadata": {
    "collapsed": true
   },
   "outputs": [],
   "source": [
    "#run 'change_to_close' function:\n",
    "S = T.copy()\n",
    "S['eventname_next'] = S.apply(change_to_close,axis = 1)"
   ]
  },
  {
   "cell_type": "code",
   "execution_count": 16,
   "metadata": {
    "collapsed": true
   },
   "outputs": [],
   "source": [
    "#change timestampdiffsec to be integer seconds:\n",
    "S['timestampdiffsec'] = S['timestampdiffsec'].astype('timedelta64[s]')"
   ]
  },
  {
   "cell_type": "code",
   "execution_count": 17,
   "metadata": {
    "collapsed": true
   },
   "outputs": [],
   "source": [
    "#similar to reasoning for above function, open cannot be in the next column\n",
    "#function to get rid of (open) in 'eventname_next':\n",
    "def remove_nextopen(x):\n",
    "    if (x['eventname_next'] == 'andrfbm_open'):\n",
    "        return 'andrfbm_end'\n",
    "    else:\n",
    "        return x['eventname_next']"
   ]
  },
  {
   "cell_type": "code",
   "execution_count": 18,
   "metadata": {
    "collapsed": true
   },
   "outputs": [],
   "source": [
    "#run 'remove_nextopen'\n",
    "U = S.copy()\n",
    "U['eventname_next'] = U.apply(remove_nextopen,axis = 1)"
   ]
  },
  {
   "cell_type": "code",
   "execution_count": 19,
   "metadata": {
    "collapsed": true
   },
   "outputs": [],
   "source": [
    "#function to remove the timestamps for 'eventname_next' == '..._end' because not known.\n",
    "def remove_end_timestamps(x):\n",
    "    if (x['eventname_next'] == 'andrfbm_end'):\n",
    "        return 0\n",
    "    else:\n",
    "        return x['timestampdiffsec']"
   ]
  },
  {
   "cell_type": "code",
   "execution_count": 20,
   "metadata": {
    "collapsed": true
   },
   "outputs": [],
   "source": [
    "V = U.copy()\n",
    "V['timestampdiffsec'] = V.apply(remove_end_timestamps,axis = 1)"
   ]
  },
  {
   "cell_type": "code",
   "execution_count": 21,
   "metadata": {
    "collapsed": true
   },
   "outputs": [],
   "source": [
    "#need to remove instances when eventname_next is not actually from the same person \n",
    "#shows up as negative values (related to having search be an 'open feature'?)\n",
    "def remove_neg_timestampdiff(x):\n",
    "    if (x['timestampdiffsec'] < 0) :\n",
    "        return 'andrfbm_end'\n",
    "    else:\n",
    "        return x['eventname_next']"
   ]
  },
  {
   "cell_type": "code",
   "execution_count": 22,
   "metadata": {
    "collapsed": true
   },
   "outputs": [],
   "source": [
    "W = V.copy()\n",
    "W['eventname_next'] = W.apply(remove_neg_timestampdiff,axis = 1)"
   ]
  },
  {
   "cell_type": "code",
   "execution_count": 23,
   "metadata": {
    "collapsed": true
   },
   "outputs": [],
   "source": [
    "#Now, remove the negative values\n",
    "def remove_zeros(x):\n",
    "    if (x['timestampdiffsec'] < 0) :\n",
    "        return 0\n",
    "    else:\n",
    "        return x['timestampdiffsec']    "
   ]
  },
  {
   "cell_type": "code",
   "execution_count": 24,
   "metadata": {
    "collapsed": true
   },
   "outputs": [],
   "source": [
    "Y = W.copy()\n",
    "Y['timestampdiffsec'] = Y.apply(remove_zeros,axis = 1)"
   ]
  },
  {
   "cell_type": "code",
   "execution_count": 26,
   "metadata": {
    "collapsed": true
   },
   "outputs": [],
   "source": [
    "#remove instances where _send & _reply events have end as their next event\n",
    "#because they can be considered a different end point.\n",
    "Z = Y.copy()\n",
    "mask = (Z['eventname'].isin(['andrfbm_listview_send','andrfbm_itemview_reply',\n",
    "                         'andrfbm_fbmreply','andrfbm_listview_reply','andrfbm_itemview_send']) & \n",
    "            (Z['eventname_next'] == 'andrfbm_end'))\n",
    "AA = Z.drop(Z.index[mask])"
   ]
  },
  {
   "cell_type": "code",
   "execution_count": 27,
   "metadata": {
    "collapsed": true
   },
   "outputs": [],
   "source": [
    "#saving output to .csv for later import into Cytoscape:\n",
    "BB = AA.groupby(['eventname','eventname_next'])['timestampdiffsec'].mean()\n",
    "BB.to_csv('time_matrix.csv',sep=',')"
   ]
  },
  {
   "cell_type": "code",
   "execution_count": 28,
   "metadata": {
    "collapsed": true
   },
   "outputs": [],
   "source": [
    "#saving output to .csv for later import into Cytoscape:\n",
    "CC = AA.groupby(['eventname','eventname_next']).count()\n",
    "CC.to_csv('count_matrix.csv',sep=',')"
   ]
  },
  {
   "cell_type": "code",
   "execution_count": 1,
   "metadata": {
    "collapsed": true
   },
   "outputs": [],
   "source": [
    "#Instructions for Cytoscape:\n",
    "#(0) \n",
    "#pull column three from time matrix as 'seconds' and append to count matrix &\n",
    "#keep only one of the numerical columns from count_matrix as 'counts'\n",
    "#save as a new .csv\n",
    "#(1) Open cytoscape\n",
    "#(2) File --> Import --> Network --> File (load the .csv)\n",
    "#(3) Select Source Node = 'eventname'\n",
    "    #Select Interaction type = Default\n",
    "    #Select Target Node = 'eventname_next'\n",
    "    #Click on 'counts' & 'seconds' columns so they are highlighted in blue\n",
    "#(4) Change style to 'Directed'    \n",
    "#(5) Customize node and edges as desired. \n",
    "#Can create separate plots with weighting of edges corresponding to 'counts' or 'seconds'"
   ]
  }
 ],
 "metadata": {
  "kernelspec": {
   "display_name": "Python 2",
   "language": "python",
   "name": "python2"
  },
  "language_info": {
   "codemirror_mode": {
    "name": "ipython",
    "version": 2
   },
   "file_extension": ".py",
   "mimetype": "text/x-python",
   "name": "python",
   "nbconvert_exporter": "python",
   "pygments_lexer": "ipython2",
   "version": "2.7.10"
  }
 },
 "nbformat": 4,
 "nbformat_minor": 0
}
